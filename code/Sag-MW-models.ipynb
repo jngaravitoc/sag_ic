{
 "cells": [
  {
   "cell_type": "markdown",
   "metadata": {},
   "source": [
    "## Sag model:\n",
    "\n",
    "Dark Matter halo with a NFW profile. \n",
    "\n",
    "For the heavy Sag:\n",
    "- $M = 1^{11} M_{\\odot}$\n",
    "- $R_s = 6.5 kpc$\n",
    "- $R_{vir} = 122.25 kpc$\n",
    "\n",
    "For the light MW:\n",
    "\n",
    "- $M = 3.2 M_{\\odot}$\n",
    "- $R_s = 4.9 kpc$\n",
    "- $R_vir = 82.93 kpc$\n",
    "\n",
    "----------------------------------------------\n",
    "\n",
    "## MW model\n",
    "\n",
    "\n",
    "Dark Matter halo with a NFW profile\n",
    "\n",
    "- $M = 1^{12} M_{\\odot}$\n",
    "- $R_s = 26.47 kpc$\n",
    "- $R_vir = 261 kpc$\n",
    "\n",
    "Disk with a Miyamoto-Nagai profile\n",
    "\n",
    "- $M = 6.5^{10} M_{\\odot}$\n",
    "- $r_a = 3.5 kpc$\n",
    "- $r_b = 0.53 kpc$\n",
    "\n",
    "Bulge with a Hernquist profile\n",
    "\n",
    "- $M = 1^{10} M_{\\odot}$\n",
    "- $R_s = 0.7 kpc$\n",
    "- $R_vir = 261 kpc$\n",
    "\n",
    "### Dark Matter halo with a Hernquist profile:\n",
    "\n",
    "The equivalent Hernquist profile for the Dark Matter halo the properties are the following:\n",
    "\n",
    "- $M_{vir} = 1.46^{12}M_{\\odot}$\n",
    "- $avir = 55.15 kpc$\n",
    "\n",
    "- $M_{200} = 1.36^{12}M_{\\odot}$\n",
    "- $a200 = 53.12 kpc$\n",
    "\n",
    "\n",
    "\n",
    "Ref: Gomez et al 2015. http://adsabs.harvard.edu/abs/2015ApJ...802..128G\n",
    "\n"
   ]
  },
  {
   "cell_type": "code",
   "execution_count": null,
   "metadata": {
    "collapsed": true
   },
   "outputs": [],
   "source": [
    "\n",
    "For Sag:\n",
    "\n",
    "x= 153.242992, y = 0.0, z=-331.284059, vx= -10.189531, vy = 0.0, vz=102.697046\n",
    "\n",
    "For the MW:\n",
    "\n",
    "x =-20.611162, y= 0.0, z=-136.589936, vx=-3.802752, vy= 0.0, vz= 4.236323"
   ]
  },
  {
   "cell_type": "code",
   "execution_count": null,
   "metadata": {
    "collapsed": true
   },
   "outputs": [],
   "source": [
    "For Sag:\n",
    "\n",
    "x= -206.66, y = 0.0, z=-231.59, vx= 95.05, vy = 0.0, vz=23.5\n",
    "\n",
    "For the MW:\n",
    "\n",
    "x =6.36, y= 0.0, z=-80.85, vx=-3.802752, vy= 0.0, vz= 4.236323"
   ]
  }
 ],
 "metadata": {
  "kernelspec": {
   "display_name": "Python 2",
   "language": "python",
   "name": "python2"
  },
  "language_info": {
   "codemirror_mode": {
    "name": "ipython",
    "version": 2
   },
   "file_extension": ".py",
   "mimetype": "text/x-python",
   "name": "python",
   "nbconvert_exporter": "python",
   "pygments_lexer": "ipython2",
   "version": "2.7.6"
  }
 },
 "nbformat": 4,
 "nbformat_minor": 0
}
